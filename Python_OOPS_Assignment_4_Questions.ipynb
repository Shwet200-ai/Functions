{
  "nbformat": 4,
  "nbformat_minor": 0,
  "metadata": {
    "colab": {
      "provenance": [],
      "authorship_tag": "ABX9TyPJKLqibRYwyAFMyMj0EuQr",
      "include_colab_link": true
    },
    "kernelspec": {
      "name": "python3",
      "display_name": "Python 3"
    },
    "language_info": {
      "name": "python"
    }
  },
  "cells": [
    {
      "cell_type": "markdown",
      "metadata": {
        "id": "view-in-github",
        "colab_type": "text"
      },
      "source": [
        "<a href=\"https://colab.research.google.com/github/Shwet200-ai/Functions/blob/main/Python_OOPS_Assignment_4_Questions.ipynb\" target=\"_parent\"><img src=\"https://colab.research.google.com/assets/colab-badge.svg\" alt=\"Open In Colab\"/></a>"
      ]
    },
    {
      "cell_type": "markdown",
      "source": [
        "# Theory Question with Practical :->  OOPS"
      ],
      "metadata": {
        "id": "KiCc2iwzSOQh"
      }
    },
    {
      "cell_type": "markdown",
      "source": [
        "[1.]  What is Object Oriented Programming(OOP)?"
      ],
      "metadata": {
        "id": "xxFFdrdkSk3J"
      }
    },
    {
      "cell_type": "markdown",
      "source": [
        "Object-Oriented Programming(OOP) is a programming paradigm that oganizes code around objects instead of functions and logic.\n",
        "\n",
        "A class is a blueprint for creating objects. it defines what attributes and methods the objects will have.\n",
        "\n",
        "An object is a specific instance built from that blueprint. we can create many objects from a single class."
      ],
      "metadata": {
        "id": "hBOKv5j3Sj7y"
      }
    },
    {
      "cell_type": "code",
      "source": [
        "# Parent class\n",
        "class Animal:\n",
        "  def __init__(self, name):\n",
        "    self.name = name\n",
        "\n",
        "  def speak(self):\n",
        "    raise NotImplementedError(\"Subclass must implemented this method !\")\n",
        "\n",
        "# Child classes (Derived classes)\n",
        "class Dog(Animal):\n",
        "  def speak(self):\n",
        "    return f\"{self.name} says woof! \"\n",
        "\n",
        "class Cat(Animal):\n",
        "  def speak(self):\n",
        "    return f\"{self.name} says Meow!!\"\n",
        "\n",
        "my_dog = Dog(\"Rex\")\n",
        "my_cat = Cat(\"Whiskers\")\n",
        "\n",
        "print(my_dog.speak())\n",
        "print(my_cat.speak())"
      ],
      "metadata": {
        "id": "ryKZ5t8yTrWg",
        "colab": {
          "base_uri": "https://localhost:8080/"
        },
        "outputId": "e87a7087-0ff2-4449-8c7b-d7cd7a7201db"
      },
      "execution_count": null,
      "outputs": [
        {
          "output_type": "stream",
          "name": "stdout",
          "text": [
            "Rex says woof! \n",
            "Whiskers says Meow!!\n"
          ]
        }
      ]
    },
    {
      "cell_type": "markdown",
      "source": [
        "[2.]  What is a class in OOP?"
      ],
      "metadata": {
        "id": "H8w1KdAVS4GA"
      }
    },
    {
      "cell_type": "markdown",
      "source": [
        "In Object-oriented programming, a class is a blueprint, template, or prototype from which objects are created.\n",
        "1. what data an object will have (its attribute)\n",
        "2. What actions an object can perform (it's methods)"
      ],
      "metadata": {
        "id": "yKgIWVH_TAq4"
      }
    },
    {
      "cell_type": "code",
      "source": [
        "from abc import ABC, abstractmethod\n",
        "\n",
        "class Shape(ABC):  # Inherit from ABC to make this an abstract class\n",
        "\n",
        "    @abstractmethod  # Decorator to mark this method as abstract\n",
        "    def area(self):\n",
        "        pass        # No implementation here - the child class MUST provide it\n",
        "\n",
        "    @abstractmethod\n",
        "    def perimeter(self):\n",
        "        pass\n",
        "\n",
        "class Rectangle(Shape):\n",
        "    def __init__(self, width, height):\n",
        "        self.width = width\n",
        "        self.height = height\n",
        "\n",
        "    def area(self): # Must implement the abstract method\n",
        "        return self.width * self.height\n",
        "\n",
        "    def perimeter(self): # Must implement the abstract method\n",
        "        return 2 * (self.width + self.height)\n",
        "\n",
        "# You cannot create an object of the abstract class Shape\n",
        "# my_shape = Shape() # TypeError: Can't instantiate abstract class Shape...\n",
        "\n",
        "# You must create objects of the concrete subclass\n",
        "my_rect = Rectangle(5, 3)\n",
        "print(my_rect.area())      # Output: 15\n",
        "print(my_rect.perimeter()) # Output: 16"
      ],
      "metadata": {
        "id": "IFBevcJuTsk_",
        "colab": {
          "base_uri": "https://localhost:8080/"
        },
        "outputId": "0c8fe10a-5ee2-4815-df74-1649de989f00"
      },
      "execution_count": null,
      "outputs": [
        {
          "output_type": "stream",
          "name": "stdout",
          "text": [
            "15\n",
            "16\n"
          ]
        }
      ]
    },
    {
      "cell_type": "markdown",
      "source": [
        "[3.]  What is an Object in OOP?"
      ],
      "metadata": {
        "id": "I7FkkdpjTB_I"
      }
    },
    {
      "cell_type": "markdown",
      "source": [
        "An object is the actual house built from the bluprint, or the cake baked from the recipie.\n",
        "\n",
        "\n",
        "1.  Attribute(Data/ state/ properties): these are variables that hold the state or data of the objects.\n",
        "\n",
        "2.  Methods(Behaviour/ operations) : These are functions defined within the object that describe what the object can do.\n"
      ],
      "metadata": {
        "id": "qgg9jPvoTIql"
      }
    },
    {
      "cell_type": "code",
      "source": [
        "class Car:\n",
        "  # the __init__ method is a special constructor method\n",
        "  # it runs automatically when a new a car object is created\n",
        "\n",
        "  def __init__(self, make, model, color):\n",
        "    # these are the object's Attribute (it's state)\n",
        "    self.make = make\n",
        "    self.model = model\n",
        "    self.color = color\n",
        "    self.current_speed = 0\n",
        "    self.is_engine_on = False\n",
        "\n",
        "  def start_engine(self):\n",
        "    self.is_engine_on = True\n",
        "    print(\"Vroom! The engine is now on. \")\n",
        "\n",
        "  def accelerate(self, mph):\n",
        "    if self.is_engine_on:\n",
        "      self.current_speed += mph\n",
        "      print(f\"Accelerating! Speed is now {self.current_speed} mph. \")\n",
        "\n",
        "    else:\n",
        "      print(\"You need to start the engine first.\")\n",
        "\n",
        "  def describe(self):\n",
        "    print(f\"This is a {self.color} {self.make} {self.model}. \")\n",
        "\n",
        "my_car = Car(\"Tesla\", \"Model 3\", \"Midlight Silver\")\n",
        "our_car = Car(\"Ford\", \"Mustang\", \"Red\")\n",
        "\n",
        "print(my_car.color)\n",
        "print(our_car.color)\n",
        "\n",
        "my_car.start_engine()\n",
        "my_car.accelerate(30)\n",
        "\n",
        "our_car.describe()\n",
        "\n",
        "our_car.accelerate(20)"
      ],
      "metadata": {
        "colab": {
          "base_uri": "https://localhost:8080/"
        },
        "id": "KGwh7t4p4MqW",
        "outputId": "562f74cb-5882-480a-dc82-2728ac2fa7e9"
      },
      "execution_count": null,
      "outputs": [
        {
          "output_type": "stream",
          "name": "stdout",
          "text": [
            "Midlight Silver\n",
            "Red\n",
            "Vroom! The engine is now on. \n",
            "Accelerating! Speed is now 30 mph. \n",
            "This is a Red Ford Mustang. \n",
            "You need to start the engine first.\n"
          ]
        }
      ]
    },
    {
      "cell_type": "markdown",
      "source": [
        "[4.]  What is the difference between Abstraction and encapsulation ?"
      ],
      "metadata": {
        "id": "4dBPWs2RTLVo"
      }
    },
    {
      "cell_type": "markdown",
      "source": [
        "1. Abstraction : it is about hiding complexity. it soves the problem at the design level.\n",
        "\n",
        "It is the process of deciding what to show and what to hide.\n",
        "\n",
        "2. Encapsulation : It is the mechanism of how you hide the details you decided to hide.\n",
        "\n",
        "It is about hiding data. It solves the problem at the implementation level."
      ],
      "metadata": {
        "id": "xS2PPuCgTVjt"
      }
    },
    {
      "cell_type": "code",
      "source": [
        "class Animal(ABC):\n",
        "\n",
        "  @abstractmethod\n",
        "  def make_sound(self):\n",
        "    pass\n",
        "\n",
        "  @abstractmethod\n",
        "  def move(self):\n",
        "    pass\n",
        "\n",
        "class Dog(Animal):\n",
        "  def make_sound(self):\n",
        "    return\"Woof!\"\n",
        "\n",
        "  def move(self):\n",
        "    return \"Runs on four legs\"\n",
        "\n",
        "class Fish(Animal):\n",
        "  def make_sound(self):\n",
        "    return \"Blub blub?\"\n",
        "\n",
        "  def move(self):\n",
        "    return \"Swims with fins\"\n",
        "\n",
        "def animal_activity(Animal):\n",
        "  print(f\"Sound: {Animal.make_sound()}\")\n",
        "  print(f\"Movement: {Animal.move()}\")\n",
        "\n",
        "  my_dog = Dog()\n",
        "  animal_activity(my_dog)\n",
        "\n",
        "  my_fish = Fish()\n",
        "  animal_activity(my_fish)\n",
        "\n"
      ],
      "metadata": {
        "id": "ttyVMXSXTuzv"
      },
      "execution_count": null,
      "outputs": []
    },
    {
      "cell_type": "markdown",
      "source": [
        "[5.] What are dunder methods in Python?"
      ],
      "metadata": {
        "id": "ssJpiMEuTYRY"
      }
    },
    {
      "cell_type": "markdown",
      "source": [
        "Dunder methods are special predefined methods in Python that we can use to add \"magic\" to our class. they are also known as magic methods.\n",
        "\n",
        "1. It is always surrounded by double underscores\n",
        "2. dunder methods allow our custom to behave like built-in types."
      ],
      "metadata": {
        "id": "9VUs80-MTWiv"
      }
    },
    {
      "cell_type": "code",
      "source": [
        "class Playlist:\n",
        "\n",
        "  def __init__(self, name):\n",
        "    self.name = name\n",
        "    self._songs = []\n",
        "\n",
        "  def add_songs(self, song):\n",
        "    self._songs.append(song)\n",
        "\n",
        "  def __len__(self):\n",
        "    return len(self._songs)\n",
        "\n",
        "  def __getitem__(self, index):\n",
        "    return self._songs[index]\n",
        "\n",
        "  def __str__(self):\n",
        "    return f\"Playlist: {self.name} with {len(self)} songs. \"\n",
        "\n",
        "  def __add__(self, other):\n",
        "    new_playlist = Playlist(f\"{self.name} + {other.name}\")\n",
        "    new_playlist._songs = self._songs + other._songs\n",
        "    return new_playlist\n",
        "\n",
        "\n",
        "my_jams = Playlist(\"Kuch Paakar khona hai!!!\")\n",
        "my_jams.add_songs(\"Song A\")\n",
        "my_jams.add_songs(\"Song B\")\n",
        "\n",
        "workout_mix = Playlist(\"Workout Mix\")\n",
        "workout_mix.add_songs(\"Pump it up\")\n",
        "workout_mix.add_songs(\"Eye of the tiger\")\n",
        "\n",
        "print(len(my_jams))\n",
        "print(my_jams[1])\n",
        "print(my_jams)\n",
        "\n",
        "mega_mix = my_jams + workout_mix\n",
        "print(mega_mix)\n",
        "\n",
        "for song in mega_mix:\n",
        "  print(f\" - {song}\")"
      ],
      "metadata": {
        "id": "1-iY3HMcTvq_",
        "colab": {
          "base_uri": "https://localhost:8080/"
        },
        "outputId": "15cfb86c-5abf-4467-809b-4d38e6e600f4"
      },
      "execution_count": null,
      "outputs": [
        {
          "output_type": "stream",
          "name": "stdout",
          "text": [
            "2\n",
            "Song B\n",
            "Playlist: Kuch Paakar khona hai!!! with 2 songs. \n",
            "Playlist: Kuch Paakar khona hai!!! + Workout Mix with 4 songs. \n",
            " - Song A\n",
            " - Song B\n",
            " - Pump it up\n",
            " - Eye of the tiger\n"
          ]
        }
      ]
    },
    {
      "cell_type": "markdown",
      "source": [
        "[6.]  Explain the concept of inheritance in OOP?"
      ],
      "metadata": {
        "id": "Fm-B4jaeThSV"
      }
    },
    {
      "cell_type": "markdown",
      "source": [
        "Thinks of inheritance in genetics. A child inherits characterstics from their parents.\n",
        "\n",
        "1. A child can also have its own unique attributes and methods, extending or specializing the parent's functionality\n",
        "\n",
        "2. It helps create a logical, heirarichal classification of real world objects, making complex syxtems easier to model and understand.\n"
      ],
      "metadata": {
        "id": "GlSMbJTjT33l"
      }
    },
    {
      "cell_type": "code",
      "source": [
        "class Person:\n",
        "    def __init__(self, name):\n",
        "        self.name = name\n",
        "\n",
        "    def greet(self):\n",
        "        return f\"Hello, my name is {self.name}.\"\n",
        "\n",
        "class Employee:\n",
        "    def __init__(self, employee_id):\n",
        "        self.employee_id = employee_id\n",
        "\n",
        "    def work(self):\n",
        "        return \"I'm working on a task.\"\n",
        "\n",
        "# Manager inherits from both Person and Employee\n",
        "class Manager(Person, Employee):\n",
        "    def __init__(self, name, employee_id, department):\n",
        "        # Initialize both parent classes\n",
        "        Person.__init__(self, name)\n",
        "        Employee.__init__(self, employee_id)\n",
        "        self.department = department\n",
        "\n",
        "    def manage(self):\n",
        "        return \"I'm managing my team.\"\n",
        "\n",
        "# Using the class with multiple inheritance\n",
        "manager = Manager(\"Alice\", \"E123\", \"Engineering\")\n",
        "print(manager.greet())   # From Person: \"Hello, my name is Alice.\"\n",
        "print(manager.work())    # From Employee: \"I'm working on a task.\"\n",
        "print(manager.manage())  # From Manager: \"I'm managing my team.\"\n",
        "print(manager.employee_id) # From Employee: \"E123\""
      ],
      "metadata": {
        "id": "glECyNWAT4av",
        "colab": {
          "base_uri": "https://localhost:8080/"
        },
        "outputId": "fd57afb8-8508-41be-9e79-5a14fca7ccc5"
      },
      "execution_count": null,
      "outputs": [
        {
          "output_type": "stream",
          "name": "stdout",
          "text": [
            "Hello, my name is Alice.\n",
            "I'm working on a task.\n",
            "I'm managing my team.\n",
            "E123\n"
          ]
        }
      ]
    },
    {
      "cell_type": "markdown",
      "source": [
        "[7.] What is Polymorphism in OOP?"
      ],
      "metadata": {
        "id": "7plzr8dtT41X"
      }
    },
    {
      "cell_type": "markdown",
      "source": [
        "The word comes from Geek:\n",
        "\n",
        "\n",
        "*   \"Poly\" = many\n",
        "*   \"Morph\" = forms\n",
        "so plymorphism means \"many forms\"\n",
        "\n",
        "In OOP, it refers to the ability of different objects to respond to the same method call or function in their own unique, specific way.\n",
        "\n",
        "1. A child class provides a specific implementation of a method that is already defined in it's parent class.\n"
      ],
      "metadata": {
        "id": "vRKEPTBpUCJd"
      }
    },
    {
      "cell_type": "code",
      "source": [
        "# These classes are NOT related by inheritance.\n",
        "# They just happen to have a method with the same name.\n",
        "\n",
        "class Car:\n",
        "    def start(self):\n",
        "        return \"Car engine starts with a key.\"\n",
        "\n",
        "class Computer:\n",
        "    def start(self):\n",
        "        return \"Computer boots up with a power button.\"\n",
        "\n",
        "class CoffeeMaker:\n",
        "    def start(self):\n",
        "        return \"Coffee maker begins brewing.\"\n",
        "\n",
        "# Polymorphic function based on Duck Typing\n",
        "# It doesn't check the type, just the behavior.\n",
        "def operate_device(device):\n",
        "    \"\"\"Operates any device that has a .start() method.\"\"\"\n",
        "    print(device.start())\n",
        "\n",
        "# Create objects from unrelated classes\n",
        "my_car = Car()\n",
        "my_pc = Computer()\n",
        "my_brewer = CoffeeMaker()\n",
        "\n",
        "# The same function works with all of them!\n",
        "operate_device(my_car)    # Output: Car engine starts with a key.\n",
        "operate_device(my_pc)     # Output: Computer boots up with a power button.\n",
        "operate_device(my_brewer) # Output: Coffee maker begins brewing."
      ],
      "metadata": {
        "id": "BLi1Lk7JUCbk",
        "colab": {
          "base_uri": "https://localhost:8080/"
        },
        "outputId": "ae6764a0-0fe6-471a-e56f-e0f3381eecf0"
      },
      "execution_count": null,
      "outputs": [
        {
          "output_type": "stream",
          "name": "stdout",
          "text": [
            "Car engine starts with a key.\n",
            "Computer boots up with a power button.\n",
            "Coffee maker begins brewing.\n"
          ]
        }
      ]
    },
    {
      "cell_type": "markdown",
      "source": [
        "[8.]  How is encapsulation achieved in Python?"
      ],
      "metadata": {
        "id": "vTjlqy3uUCw5"
      }
    },
    {
      "cell_type": "markdown",
      "source": [
        "Two main aspects of encapsulation:\n",
        "\n",
        "1. Bundling : Grouping related data and methods together in a class.\n",
        "\n",
        "2. Data Hiding/ Access Control : Restricting direct access to certain components to prevent accidental and to enforce validation."
      ],
      "metadata": {
        "id": "h6z1DmnUUN4E"
      }
    },
    {
      "cell_type": "code",
      "source": [
        "class Example:\n",
        "    def __init__(self):\n",
        "        self._protected_attr = \"I'm 'protected'\" # Protected attribute\n",
        "\n",
        "    def _protected_method(self): # Protected method\n",
        "        return \"I'm for internal use\"\n",
        "\n",
        "    def public_method(self):\n",
        "        # It's okay to use the protected member inside the class\n",
        "        return self._protected_method() + \" and my public method uses me.\"\n",
        "\n",
        "obj = Example()\n",
        "print(obj._protected_attr)    # Still works, but you shouldn't do this.\n",
        "print(obj._protected_method()) # Still works, but you shouldn't do this.\n",
        "print(obj.public_method())     # This is the correct way."
      ],
      "metadata": {
        "id": "5r9qEGlYUOQw",
        "colab": {
          "base_uri": "https://localhost:8080/"
        },
        "outputId": "944cabce-4b7d-49b2-de21-bc6f2c50349e"
      },
      "execution_count": null,
      "outputs": [
        {
          "output_type": "stream",
          "name": "stdout",
          "text": [
            "I'm 'protected'\n",
            "I'm for internal use\n",
            "I'm for internal use and my public method uses me.\n"
          ]
        }
      ]
    },
    {
      "cell_type": "code",
      "source": [
        "class Temprature:\n",
        "\n",
        "  def __init__(self, celsius=0):\n",
        "    self._celsius = celsius\n",
        "\n",
        "  @property\n",
        "  def celsius(self):\n",
        "    print(\"Getting value...\")\n",
        "    return self._celsius\n",
        "\n",
        "  @celsius.setter\n",
        "  def celsius(self, value):\n",
        "    print(\"Setting value....\")\n",
        "\n",
        "    if value < -273.15:\n",
        "      raise ValueError(\"Temprature below absolute zero is impossible.\")\n",
        "    self._celsius = value\n",
        "\n",
        "  @property\n",
        "  def fahrenheit(self):\n",
        "    return (self._celsius * 9/5) + 32\n",
        "\n",
        "temp = Temprature(25)\n",
        "print(temp.celsius)\n",
        "temp.celsius = 30\n",
        "print(temp.fahrenheit)\n",
        "print(temp._celsius)"
      ],
      "metadata": {
        "colab": {
          "base_uri": "https://localhost:8080/"
        },
        "id": "lEFUYsJ3QZZN",
        "outputId": "00993b79-a25d-4e71-d789-0e9d7062e26f"
      },
      "execution_count": null,
      "outputs": [
        {
          "output_type": "stream",
          "name": "stdout",
          "text": [
            "Getting value...\n",
            "25\n",
            "Setting value....\n",
            "86.0\n",
            "30\n"
          ]
        }
      ]
    },
    {
      "cell_type": "markdown",
      "source": [
        "[9.]  What is a constructor in Python?"
      ],
      "metadata": {
        "id": "m_yl_nksUPAr"
      }
    },
    {
      "cell_type": "markdown",
      "source": [
        "In Python, the constructor is defined using the '__init__' method.\n",
        "\n",
        "1. __init__ is short for \"initialize\"\n",
        "2. It is called automatically by Python after the object has been created.\n",
        "3. It's first parameter is always self, which is a reference to newly created object itself."
      ],
      "metadata": {
        "id": "vgzna6HvUaB8"
      }
    },
    {
      "cell_type": "code",
      "source": [
        "class User:\n",
        "  def __init__(self, username, eamail, is_admin = False):\n",
        "    self.username = username\n",
        "    self.email = eamail\n",
        "    self.is_admin = is_admin\n",
        "    self.login_count = 0\n",
        "\n",
        "user1 = User(\"Shwet Prakash\", \"shwetprakashthakur@gmail.com\")\n",
        "user2 = User(\"admin_user\", \"admin@gmail.com\", True)\n",
        "\n",
        "print(user1.username)\n",
        "print(user1.is_admin)\n",
        "\n",
        "print(user2.is_admin)"
      ],
      "metadata": {
        "id": "0JaKUyKAUadf",
        "colab": {
          "base_uri": "https://localhost:8080/"
        },
        "outputId": "3324e5bc-af02-43b8-b50c-4dbc9d87de19"
      },
      "execution_count": null,
      "outputs": [
        {
          "output_type": "stream",
          "name": "stdout",
          "text": [
            "Shwet Prakash\n",
            "False\n",
            "True\n"
          ]
        }
      ]
    },
    {
      "cell_type": "markdown",
      "source": [
        "[10.]  What are class and static methods in Python?"
      ],
      "metadata": {
        "id": "IftCJoYyUc_f"
      }
    },
    {
      "cell_type": "markdown",
      "source": [
        "In static method,\n",
        "1. for decorator we are using @staticmethod\n",
        "2. No Special Parameter\n",
        "3. can not access class state\n",
        "4. utility function logically grouped with the class.\n",
        "\n",
        "In class method,\n",
        "1. for decorator, we are using @classmethod\n",
        "2. special parameter is 'cls' (class)\n",
        "3. can access class state via 'cls'\n",
        "4. Operate on class-level data act as alternative constructors.\n",
        "\n"
      ],
      "metadata": {
        "id": "cAqdISV0UmB8"
      }
    },
    {
      "cell_type": "code",
      "source": [
        "class Myclass:\n",
        "  class_attr = \"I am a class attribute\"\n",
        "  def __init__(self, value):\n",
        "    self.instance_attr = value\n",
        "\n",
        "  def instance_method(self):\n",
        "    return f\"Instance method. instance_attr: {self.instance_attr}, class_attr: {self.class_attr}\"\n",
        "\n",
        "  @classmethod\n",
        "  def class_method(cls):\n",
        "    return f\"Class method. I can see class_attr: {cls.class_attr}\"\n",
        "\n",
        "  @staticmethod\n",
        "  def static_method():\n",
        "    return f\"Static method. I'm just a function inside the class name space. \"\n",
        "\n",
        "obj = Myclass(\"instance_value\")\n",
        "\n",
        "print(obj.instance_method())\n",
        "print(Myclass.class_method())\n",
        "print(Myclass.static_method())"
      ],
      "metadata": {
        "id": "LsyLq3GRUmq3",
        "colab": {
          "base_uri": "https://localhost:8080/"
        },
        "outputId": "ea694793-3eab-4eea-a853-d601de0e7fcc"
      },
      "execution_count": null,
      "outputs": [
        {
          "output_type": "stream",
          "name": "stdout",
          "text": [
            "Instance method. instance_attr: instance_value, class_attr: I am a class attribute\n",
            "Class method. I can see class_attr: I am a class attribute\n",
            "Static method. I'm just a function inside the class name space. \n"
          ]
        }
      ]
    },
    {
      "cell_type": "markdown",
      "source": [
        "[11.] What is method overloading in Python?"
      ],
      "metadata": {
        "id": "5Ad5vxkaUnWG"
      }
    },
    {
      "cell_type": "markdown",
      "source": [
        "Python doesn't support method overloading in the traditional sense found in statically-typed languages.\n",
        "Python's approach is different and more flexible\n",
        "\n",
        "1. Single method implementations with flexible arguments.\n",
        "\n",
        "2. Duck typing (behaviour overtype)\n",
        "3. Variable-length arguments."
      ],
      "metadata": {
        "id": "lhMWTvhiUwgU"
      }
    },
    {
      "cell_type": "code",
      "source": [
        "# For a more formal and organized way to handle different arguments types\n",
        "# Python's functools module provides @singledispatch. This is the closest you get to traditional type-based overloading\n",
        "from functools import singledispatch\n",
        "\n",
        "class Formatter:\n",
        "  pass\n",
        "\n",
        "@singledispatch\n",
        "def format_data(data):\n",
        "  return f\"Default formatting: {str(data)}\"\n",
        "\n",
        "@format_data.register\n",
        "def _(data: int):\n",
        "  return f\"Integer: {data:,}\"\n",
        "\n",
        "@format_data.register\n",
        "def _(data: float):\n",
        "  return f\"Float: {data:.2f}\"\n",
        "\n",
        "@format_data.register\n",
        "def _(data: list):\n",
        "  return f\"List with {len(data)} items: {data}\"\n",
        "\n",
        "\n",
        "print(format_data(1000000))\n",
        "print(format_data(3.14159))\n",
        "print(format_data([1, 2, 3]))\n",
        "print(format_data(\"Hello\"))\n"
      ],
      "metadata": {
        "id": "Jgn9lD0AUw8X",
        "colab": {
          "base_uri": "https://localhost:8080/"
        },
        "outputId": "855005dc-9002-4bad-dd2d-6abed8752285"
      },
      "execution_count": null,
      "outputs": [
        {
          "output_type": "stream",
          "name": "stdout",
          "text": [
            "Integer: 1,000,000\n",
            "Float: 3.14\n",
            "List with 3 items: [1, 2, 3]\n",
            "Default formatting: Hello\n"
          ]
        }
      ]
    },
    {
      "cell_type": "code",
      "source": [
        "class Person:\n",
        "  def __init__(self, *args, **kwargs):\n",
        "    if args and len(args) == 2:\n",
        "      self.name = args[0]\n",
        "      self.age = args[1]\n",
        "      self.city = \"Unknown\"\n",
        "\n",
        "    elif kwargs:\n",
        "      self.name = kwargs.get('name', 'Unknown')\n",
        "      self.age = kwargs.get('age', 0)\n",
        "      self.city = kwargs.get('city', 'Unknown')\n",
        "\n",
        "    else:\n",
        "      self.name = \"Unknown\"\n",
        "      self.age = 0\n",
        "      self.city = \"Unknown\"\n",
        "  def __str__(self):\n",
        "    return f\"Name: {self.name}, Age: {self.age}, City: {self.city}\"\n",
        "\n",
        "\n",
        "p1 = Person(\"Alice\", 25)\n",
        "p2 = Person(name=\"Bob\", age=30, city=\"New York\")\n",
        "p3 = Person()  # Default values\n",
        "\n",
        "print(p1)\n",
        "print(p2)\n",
        "print(p3)\n"
      ],
      "metadata": {
        "colab": {
          "base_uri": "https://localhost:8080/"
        },
        "id": "NI3buganj2de",
        "outputId": "9879c930-1e69-4087-abb6-edaeabf6133e"
      },
      "execution_count": null,
      "outputs": [
        {
          "output_type": "stream",
          "name": "stdout",
          "text": [
            "Name: Alice, Age: 25, City: Unknown\n",
            "Name: Bob, Age: 30, City: New York\n",
            "Name: Unknown, Age: 0, City: Unknown\n"
          ]
        }
      ]
    },
    {
      "cell_type": "markdown",
      "source": [
        "[12.]  What is a method overriding in OOP?"
      ],
      "metadata": {
        "id": "3VB7sPYoUyBu"
      }
    },
    {
      "cell_type": "markdown",
      "source": [
        "Method overriding occurs when a subclass provides a specific implementation of a method that is already defined in its superclass."
      ],
      "metadata": {
        "id": "d-XXjumGU8f2"
      }
    },
    {
      "cell_type": "code",
      "source": [
        "# PARENT CLASS (Superclass)\n",
        "class Animal:\n",
        "    def speak(self):\n",
        "        # A generic method meant to be overridden\n",
        "        print(\"The animal makes a sound.\")\n",
        "\n",
        "# CHILD CLASS (Subclass) overrides the `speak` method\n",
        "class Dog(Animal):\n",
        "    def speak(self):  # Same method name and parameters\n",
        "        # Specific implementation for Dog\n",
        "        print(\"The dog says: Woof!\")\n",
        "\n",
        "# Another CHILD CLASS with its own override\n",
        "class Cat(Animal):\n",
        "    def speak(self):  # Same method name and parameters\n",
        "        # Specific implementation for Cat\n",
        "        print(\"The cat says: Meow!\")\n",
        "\n",
        "# Usage\n",
        "generic_animal = Animal()\n",
        "my_dog = Dog()\n",
        "my_cat = Cat()\n",
        "\n",
        "generic_animal.speak() # Output: The animal makes a sound.\n",
        "my_dog.speak()         # Output: The dog says: Woof!\n",
        "my_cat.speak()         # Output: The cat says: Meow!\n",
        "\n"
      ],
      "metadata": {
        "id": "TI0_w4f2U88P",
        "colab": {
          "base_uri": "https://localhost:8080/"
        },
        "outputId": "44963468-1a05-4409-b738-c1cb0e6943a0"
      },
      "execution_count": null,
      "outputs": [
        {
          "output_type": "stream",
          "name": "stdout",
          "text": [
            "The animal makes a sound.\n",
            "The dog says: Woof!\n",
            "The cat says: Meow!\n"
          ]
        }
      ]
    },
    {
      "cell_type": "markdown",
      "source": [
        "[13.]  What is a Property decorator in Python?"
      ],
      "metadata": {
        "id": "N_3Q2qloU_El"
      }
    },
    {
      "cell_type": "markdown",
      "source": [
        "@property decorator in Python is a powerful and elegant features that allows us to define methods that can accessed like  attributes, while maintaining control over getting, setting, and deleting values."
      ],
      "metadata": {
        "id": "N75tnuU6VGSL"
      }
    },
    {
      "cell_type": "code",
      "source": [
        "class BankAccount:\n",
        "  def __init__(self, account_holder, initial_balance = 0):\n",
        "    self.account_holder = account_holder\n",
        "    self._balance = initial_balance\n",
        "    self.transaction_count = 0\n",
        "\n",
        "  @property\n",
        "  def balance(self):\n",
        "    return self._balance\n",
        "\n",
        "  def deposit(self, amount):\n",
        "    if amount <= 0:\n",
        "      raise ValueError(\"Deposit amount must be positive.\")\n",
        "    self._balance += amount\n",
        "    self.transaction_count += 1\n",
        "    return self._balance\n",
        "\n",
        "  def withdraw(self, amount):\n",
        "    if amount <= 0:\n",
        "      raise ValueError(\"Withdrawal amount must be positive.\")\n",
        "    if amount > self._balance:\n",
        "      raise ValueError(\"Insufficient funds.\")\n",
        "    self._balance -= amount\n",
        "    self.transaction_count += 1\n",
        "    return self._balance\n",
        "\n",
        "\n",
        "account = BankAccount(\"Shwet Prakash\", 1000)\n",
        "print(account.balance)\n",
        "print(account.deposit(500))\n",
        "print(account.withdraw(200))\n",
        "print(account.balance)\n",
        "\n",
        "\n"
      ],
      "metadata": {
        "id": "bAMUU6VlVGjn",
        "colab": {
          "base_uri": "https://localhost:8080/"
        },
        "outputId": "6589fcfe-66d0-4c7d-f8c7-72a002524c10"
      },
      "execution_count": null,
      "outputs": [
        {
          "output_type": "stream",
          "name": "stdout",
          "text": [
            "1000\n",
            "1500\n",
            "1300\n",
            "1300\n"
          ]
        }
      ]
    },
    {
      "cell_type": "markdown",
      "source": [
        "[14.]  Why is polymorphism important in OOP?"
      ],
      "metadata": {
        "id": "c65QrhYSVG6Z"
      }
    },
    {
      "cell_type": "markdown",
      "source": [
        "The word comes from Geek:\n",
        "\n",
        "\"Poly\" = many\n",
        "\"Morph\" = forms so plymorphism means \"many forms\"\n",
        "In OOP, it refers to the ability of different objects to respond to the same method call or function in their own unique, specific way.\n",
        "\n",
        "A child class provides a specific implementation of a method that is already defined in it's parent class."
      ],
      "metadata": {
        "id": "ImY4zor2VW8j"
      }
    },
    {
      "cell_type": "code",
      "source": [
        "# These classes are NOT related by inheritance.\n",
        "# They just happen to have a method with the same name.\n",
        "\n",
        "class Car:\n",
        "    def start(self):\n",
        "        return \"Car engine starts with a key.\"\n",
        "\n",
        "class Computer:\n",
        "    def start(self):\n",
        "        return \"Computer boots up with a power button.\"\n",
        "\n",
        "class CoffeeMaker:\n",
        "    def start(self):\n",
        "        return \"Coffee maker begins brewing.\"\n",
        "\n",
        "# Polymorphic function based on Duck Typing\n",
        "# It doesn't check the type, just the behavior.\n",
        "def operate_device(device):\n",
        "    \"\"\"Operates any device that has a .start() method.\"\"\"\n",
        "    print(device.start())\n",
        "\n",
        "# Create objects from unrelated classes\n",
        "my_car = Car()\n",
        "my_pc = Computer()\n",
        "my_brewer = CoffeeMaker()\n",
        "\n",
        "# The same function works with all of them!\n",
        "operate_device(my_car)    # Output: Car engine starts with a key.\n",
        "operate_device(my_pc)     # Output: Computer boots up with a power button.\n",
        "operate_device(my_brewer) # Output: Coffee maker begins brewing."
      ],
      "metadata": {
        "id": "V67R9SCUVXQ-",
        "colab": {
          "base_uri": "https://localhost:8080/"
        },
        "outputId": "cc298048-8172-4aa8-8550-6531ffc97ddc"
      },
      "execution_count": null,
      "outputs": [
        {
          "output_type": "stream",
          "name": "stdout",
          "text": [
            "Car engine starts with a key.\n",
            "Computer boots up with a power button.\n",
            "Coffee maker begins brewing.\n"
          ]
        }
      ]
    },
    {
      "cell_type": "markdown",
      "source": [
        "[15.]  What is an abstract class in Python?"
      ],
      "metadata": {
        "id": "n3EM-2PvVX78"
      }
    },
    {
      "cell_type": "markdown",
      "source": [
        "1.  An abstract class in Python is a class that cannot be instantiated on its own and is designed to be a blueprint for other classes. Its purpose is to define a common interface\n",
        "\n",
        "\n",
        "Python provides the abc (Abstract Base Class) module to define abstract classes. The key tools are:\n",
        "\n",
        "1. ABC class: Your abstract class must inherit from this.\n",
        "\n",
        "2. @abstractmethod decorator: Used to declare a method as abstract."
      ],
      "metadata": {
        "id": "pdebt968Ve0T"
      }
    },
    {
      "cell_type": "code",
      "source": [],
      "metadata": {
        "id": "b8784OtnVfGu"
      },
      "execution_count": null,
      "outputs": []
    },
    {
      "cell_type": "markdown",
      "source": [
        "[16.]  What are the advantages of OOP?"
      ],
      "metadata": {
        "id": "QuJcqk2QVfY9"
      }
    },
    {
      "cell_type": "markdown",
      "source": [],
      "metadata": {
        "id": "Ad0WKm59VoEL"
      }
    },
    {
      "cell_type": "code",
      "source": [
        "from abc import ABC, abstractmethod\n",
        "\n",
        "class PaymentGateway(ABC):\n",
        "    \"\"\"Abstract class defining the contract for all payment processors.\"\"\"\n",
        "\n",
        "    @abstractmethod\n",
        "    def process_payment(self, amount):\n",
        "        \"\"\"All payment gateways MUST be able to process a payment.\"\"\"\n",
        "        pass\n",
        "\n",
        "    @abstractmethod\n",
        "    def refund_payment(self, transaction_id):\n",
        "        \"\"\"All payment gateways MUST be able to process a refund.\"\"\"\n",
        "        pass\n",
        "\n",
        "    # A common concrete method for all gateways\n",
        "    def _log_transaction(self, message):\n",
        "        print(f\"[LOG]: {message}\")\n",
        "\n",
        "# Concrete Implementation 1\n",
        "class StripeGateway(PaymentGateway):\n",
        "    def process_payment(self, amount):\n",
        "        # Specific implementation for Stripe's API\n",
        "        self._log_transaction(f\"Charging ${amount} via Stripe\")\n",
        "        return f\"Stripe_Transaction_ID_{12345}\"\n",
        "\n",
        "    def refund_payment(self, transaction_id):\n",
        "        self._log_transaction(f\"Refunding {transaction_id} via Stripe\")\n",
        "        return \"success\"\n",
        "\n",
        "# Concrete Implementation 2\n",
        "class PayPalGateway(PaymentGateway):\n",
        "    def process_payment(self, amount):\n",
        "        # Specific implementation for PayPal's API\n",
        "        self._log_transaction(f\"Charging ${amount} via PayPal\")\n",
        "        return f\"PayPal_Transaction_ID_{67890}\"\n",
        "\n",
        "    def refund_payment(self, transaction_id):\n",
        "        self._log_transaction(f\"Refunding {transaction_id} via PayPal\")\n",
        "        return \"success\"\n",
        "\n",
        "# This function demonstrates polymorphism thanks to the abstract base class.\n",
        "# It works with ANY PaymentGateway subclass.\n",
        "def checkout(payment_processor, amount):\n",
        "    \"\"\"Process a payment without knowing the specific gateway.\"\"\"\n",
        "    transaction_id = payment_processor.process_payment(amount)\n",
        "    print(f\"Payment processed! ID: {transaction_id}\")\n",
        "    return transaction_id\n",
        "\n",
        "# Usage\n",
        "stripe = StripeGateway()\n",
        "paypal = PayPalGateway()\n",
        "\n",
        "checkout(stripe, 100.50)\n",
        "checkout(paypal, 75.25)"
      ],
      "metadata": {
        "id": "YZpULqnmVoTk",
        "colab": {
          "base_uri": "https://localhost:8080/",
          "height": 105
        },
        "outputId": "097f2520-2777-4a15-bc30-be081f1b2ce4"
      },
      "execution_count": null,
      "outputs": [
        {
          "output_type": "stream",
          "name": "stdout",
          "text": [
            "[LOG]: Charging $100.5 via Stripe\n",
            "Payment processed! ID: Stripe_Transaction_ID_12345\n",
            "[LOG]: Charging $75.25 via PayPal\n",
            "Payment processed! ID: PayPal_Transaction_ID_67890\n"
          ]
        },
        {
          "output_type": "execute_result",
          "data": {
            "text/plain": [
              "'PayPal_Transaction_ID_67890'"
            ],
            "application/vnd.google.colaboratory.intrinsic+json": {
              "type": "string"
            }
          },
          "metadata": {},
          "execution_count": 42
        }
      ]
    },
    {
      "cell_type": "markdown",
      "source": [
        "[17.] What is the difference between a class variable and an instance variable?"
      ],
      "metadata": {
        "id": "dykqjH2UVojL"
      }
    },
    {
      "cell_type": "markdown",
      "source": [
        "1. Instance Variables:\n",
        "\n",
        "a.)   Purposes: To store data that is unique to each individual object.\n",
        "\n",
        "b.)  Declaration: Defined inside the '__init__' method using self.variable_name.\n",
        "\n",
        "c.)  Access: Accessed through an instance using self.variable_name outside.\n",
        "\n",
        "2. class Variable\n",
        "\n",
        "a.)  purpose : To store data that is shared among all instances of the class. They are often used for constants, default values, or tracking data common to the entire class.\n",
        "\n",
        "b.) Declaration : Defined directly inside the class, but outside any methods."
      ],
      "metadata": {
        "id": "xzSBPYpCV8qb"
      }
    },
    {
      "cell_type": "code",
      "source": [
        "class Car:\n",
        "    def __init__(self, make, model):\n",
        "        # These are INSTANCE variables\n",
        "        self.make = make     # Unique to each car\n",
        "        self.model = model   # Unique to each car\n",
        "        self.mileage = 0     # Unique to each car\n",
        "\n",
        "# Creating objects (instances)\n",
        "car1 = Car(\"Tesla\", \"Model 3\")\n",
        "car2 = Car(\"Ford\", \"Mustang\")\n",
        "\n",
        "# Each object has its OWN copy of the instance variables\n",
        "print(car1.make)   # Output: Tesla\n",
        "print(car2.make)   # Output: Ford\n",
        "\n",
        "car1.mileage = 15000\n",
        "print(car1.mileage) # Output: 15000\n",
        "print(car2.mileage) # Output: 0 (unchanged)"
      ],
      "metadata": {
        "id": "xar-iJVxV9AE",
        "colab": {
          "base_uri": "https://localhost:8080/"
        },
        "outputId": "b38de388-c1a4-4410-8ac1-290b44b59cf3"
      },
      "execution_count": null,
      "outputs": [
        {
          "output_type": "stream",
          "name": "stdout",
          "text": [
            "Tesla\n",
            "Ford\n",
            "15000\n",
            "0\n"
          ]
        }
      ]
    },
    {
      "cell_type": "code",
      "source": [
        "class Car:\n",
        "    # These are CLASS variables\n",
        "    wheels = 4               # Shared by all cars\n",
        "    vehicle_type = \"automobile\" # Shared by all cars\n",
        "    car_count = 0            # Tracking all cars ever made\n",
        "\n",
        "    def __init__(self, make, model):\n",
        "        # These are INSTANCE variables\n",
        "        self.make = make\n",
        "        self.model = model\n",
        "        # Increment the shared class variable\n",
        "        Car.car_count += 1\n",
        "\n",
        "# Accessing class variables through the CLASS\n",
        "print(Car.wheels)          # Output: 4\n",
        "print(Car.vehicle_type)    # Output: automobile\n",
        "\n",
        "# Creating objects\n",
        "car1 = Car(\"Tesla\", \"Model 3\")\n",
        "car2 = Car(\"Ford\", \"Mustang\")\n",
        "\n",
        "# Accessing class variables through an INSTANCE\n",
        "print(car1.wheels)         # Output: 4\n",
        "print(car2.wheels)         # Output: 4\n",
        "\n",
        "# The class variable is shared and updated\n",
        "print(f\"Total cars created: {Car.car_count}\") # Output: 2"
      ],
      "metadata": {
        "colab": {
          "base_uri": "https://localhost:8080/"
        },
        "id": "SMZ9ZYQl15H5",
        "outputId": "a4b9383f-3355-4923-f953-fac39b74ffda"
      },
      "execution_count": null,
      "outputs": [
        {
          "output_type": "stream",
          "name": "stdout",
          "text": [
            "4\n",
            "automobile\n",
            "4\n",
            "4\n",
            "Total cars created: 2\n"
          ]
        }
      ]
    },
    {
      "cell_type": "markdown",
      "source": [
        "[18.]  What is multiple inheritance in Python?"
      ],
      "metadata": {
        "id": "Msw-rD8WV9R7"
      }
    },
    {
      "cell_type": "markdown",
      "source": [
        "1. Multiple inheritance is a powerful (and sometimes controversial) feature in Python where a class can inherit from more than one parent class.\n",
        "\n",
        "2. It means a child class can have access to attributes and methods from multiple parent classes."
      ],
      "metadata": {
        "id": "gsLl2iY4WIMD"
      }
    },
    {
      "cell_type": "code",
      "source": [
        "class Father:\n",
        "    def __init__(self):\n",
        "        self.father_name = \"John\"\n",
        "        self.eye_color = \"blue\"\n",
        "\n",
        "    def skills(self):\n",
        "        return \"Programming, Carpentry\"\n",
        "\n",
        "class Mother:\n",
        "    def __init__(self):\n",
        "        self.mother_name = \"Mary\"\n",
        "        self.hair_color = \"brown\"\n",
        "\n",
        "    def skills(self):\n",
        "        return \"Painting, Cooking\"\n",
        "\n",
        "# Child class inherits from BOTH Father and Mother\n",
        "class Child(Father, Mother):\n",
        "    def __init__(self, name):\n",
        "        super().__init__()  # Important! This only calls one parent's __init__\n",
        "        self.name = name\n",
        "\n",
        "    def get_skills(self):\n",
        "        # This will show which parent's skills() method is used\n",
        "        return super().skills()\n",
        "\n",
        "# Create a Child object\n",
        "child = Child(\"Alice\")\n",
        "\n",
        "print(f\"Name: {child.name}\")\n",
        "print(f\"Father: {child.father_name}\")  # From Father\n",
        "# print(child.mother_name)  # This would cause an ERROR! Why?"
      ],
      "metadata": {
        "id": "RNRSdc5IWIn-",
        "colab": {
          "base_uri": "https://localhost:8080/"
        },
        "outputId": "6a9db5c5-6178-4da3-f964-47510c8ca68c"
      },
      "execution_count": null,
      "outputs": [
        {
          "output_type": "stream",
          "name": "stdout",
          "text": [
            "Name: Alice\n",
            "Father: John\n"
          ]
        }
      ]
    },
    {
      "cell_type": "markdown",
      "source": [
        "[19.]  Explain the purpous of \" __str__ 'and' __repr__ \" methods in Python?"
      ],
      "metadata": {
        "id": "y2pHYrdJWI_M"
      }
    },
    {
      "cell_type": "markdown",
      "source": [
        "1. __str__: Purpose is to be readable. It's for end-users. It returns a human-readable, \"informal\" string representation of the object.\n",
        "\n",
        "2. __repr__: Purpose is to be unambiguous. It's for developers and debugging. It returns a more complete, \"formal\" string representation that should ideally be a valid Python expression to recreate the object."
      ],
      "metadata": {
        "id": "nutvKsYoWewa"
      }
    },
    {
      "cell_type": "code",
      "source": [
        "class Employee:\n",
        "    def __init__(self, name, age, title):\n",
        "        self.name = name\n",
        "        self.age = age\n",
        "        self.title = title\n",
        "\n",
        "    def __repr__(self):\n",
        "        return f\"Employee('{self.name}', {self.age}, '{self.title}')\"\n",
        "\n",
        "    def __str__(self):\n",
        "        return f\"{self.name} ({self.age}), {self.title}\"\n",
        "\n",
        "emp = Employee(\"Alice Smith\", 30, \"Software Engineer\")\n",
        "\n",
        "print(str(emp))   # Output: Alice Smith (30), Software Engineer\n",
        "print(emp)        # print() calls __str__ -> Output: Alice Smith (30), Software Engineer"
      ],
      "metadata": {
        "id": "Ecv3zbEPWkF9",
        "colab": {
          "base_uri": "https://localhost:8080/"
        },
        "outputId": "fc3a6905-5a86-45be-d6fc-033f8112e8ca"
      },
      "execution_count": null,
      "outputs": [
        {
          "output_type": "stream",
          "name": "stdout",
          "text": [
            "Alice Smith (30), Software Engineer\n",
            "Alice Smith (30), Software Engineer\n"
          ]
        }
      ]
    },
    {
      "cell_type": "markdown",
      "source": [
        "[20.]  what is the significance of the 'super()' function in Python?"
      ],
      "metadata": {
        "id": "4_AhFrlTWkyN"
      }
    },
    {
      "cell_type": "markdown",
      "source": [
        "1. The super() function returns a temporary object of the superclass, allowing you to call its methods.\n",
        "\n",
        "2. The most common use of super() is in the __init__ method of a child class to ensure the parent class is properly initialized before the child class adds its own attributes."
      ],
      "metadata": {
        "id": "-U45f-ovW3FJ"
      }
    },
    {
      "cell_type": "code",
      "source": [
        "class AudioFile:\n",
        "    def __init__(self, filename):\n",
        "        self.filename = filename\n",
        "\n",
        "    def play(self):\n",
        "        print(f\"Playing audio file: {self.filename}\")\n",
        "\n",
        "class MP3File(AudioFile):\n",
        "    def __init__(self, filename, bitrate=128):\n",
        "        super().__init__(filename)  # Initialize the parent part\n",
        "        self.bitrate = bitrate      # Then add MP3-specific attributes\n",
        "\n",
        "    def play(self):\n",
        "        # First, do the generic play action from the parent\n",
        "        super().play()  # Calls AudioFile.play()\n",
        "        # Then, extend it with MP3-specific behavior\n",
        "        print(f\"  Format: MP3, Bitrate: {self.bitrate}kbps\")\n",
        "\n",
        "# Usage\n",
        "song = MP3File(\"song.mp3\", 192)\n",
        "song.play()\n",
        "# Output:\n",
        "# Playing audio file: song.mp3\n",
        "#   Format: MP3, Bitrate: 192kbps\n"
      ],
      "metadata": {
        "id": "R4ZgfUwpW3sV",
        "colab": {
          "base_uri": "https://localhost:8080/"
        },
        "outputId": "6cab1903-3b78-4df3-a046-4e7c444dc635"
      },
      "execution_count": null,
      "outputs": [
        {
          "output_type": "stream",
          "name": "stdout",
          "text": [
            "Playing audio file: song.mp3\n",
            "  Format: MP3, Bitrate: 192kbps\n"
          ]
        }
      ]
    },
    {
      "cell_type": "markdown",
      "source": [
        "[21.] What is the significance of the '__del__' methods in Python?"
      ],
      "metadata": {
        "id": "j4WQ6xevW4B0"
      }
    },
    {
      "cell_type": "markdown",
      "source": [
        "1. The __del__ method is called when an object is about to be destroyed.\n",
        "\n",
        "2. The primary purpose of __del__ is not to delete the object but to perform cleanup actions just before the object's memory is reclaimed.\n",
        "\n"
      ],
      "metadata": {
        "id": "y6MlQjSxXDvq"
      }
    },
    {
      "cell_type": "code",
      "source": [
        "# for resource management, the context manager protocol is highly prefered over __del__ .\n",
        "\n",
        "class ManagedDataLogger:\n",
        "  def __init__(self, filename):\n",
        "    self.filename = filename\n",
        "\n",
        "  def __enter__(self):\n",
        "    self.file = open(self.filename, 'w')\n",
        "    print(f\"File {self.filename} opened.\")\n",
        "    return self\n",
        "\n",
        "  def write_data(self, data):\n",
        "    self.file.write(data + '\\n')\n",
        "\n",
        "  def __exit__(self, exc_type, exc_val, exc_tb):\n",
        "    self.file.close()\n",
        "    print(f\"File {self.filename} closed safely. \")\n",
        "\n",
        "with ManagedDataLogger('better_data.txt') as logger:\n",
        "  logger.write_data(\"This data is safe\")\n",
        "  logger.write_data(\"The file will close automatically here.\")"
      ],
      "metadata": {
        "id": "QxzxfJECXEEM",
        "colab": {
          "base_uri": "https://localhost:8080/"
        },
        "outputId": "67bc9b23-845d-4228-fa1b-46ad67406462"
      },
      "execution_count": null,
      "outputs": [
        {
          "output_type": "stream",
          "name": "stdout",
          "text": [
            "File better_data.txt opened.\n",
            "File better_data.txt closed safely. \n"
          ]
        }
      ]
    },
    {
      "cell_type": "code",
      "source": [
        "class Example:\n",
        "    def __del__(self):\n",
        "        print(\"Destructor called... but when?\")\n",
        "\n",
        "# Create and delete an object\n",
        "obj = Example()\n",
        "obj = None"
      ],
      "metadata": {
        "colab": {
          "base_uri": "https://localhost:8080/"
        },
        "id": "WEgop5h4BL2e",
        "outputId": "96077138-637e-4300-e47f-2445b1ad238c"
      },
      "execution_count": null,
      "outputs": [
        {
          "output_type": "stream",
          "name": "stdout",
          "text": [
            "Destructor called... but when?\n"
          ]
        }
      ]
    },
    {
      "cell_type": "code",
      "source": [
        "class Problematic:\n",
        "    def __del__(self):\n",
        "        raise ValueError(\"An error in destructor!\")\n",
        "\n",
        "obj = Problematic()\n",
        "obj = None"
      ],
      "metadata": {
        "colab": {
          "base_uri": "https://localhost:8080/"
        },
        "id": "_AzfOqUMBfP_",
        "outputId": "47a13ec5-1498-4a64-fb6f-e2a00950bfc3"
      },
      "execution_count": null,
      "outputs": [
        {
          "output_type": "stream",
          "name": "stderr",
          "text": [
            "Exception ignored in: <function Problematic.__del__ at 0x7b3dac1da200>\n",
            "Traceback (most recent call last):\n",
            "  File \"/tmp/ipython-input-2397627379.py\", line 3, in __del__\n",
            "ValueError: An error in destructor!\n"
          ]
        }
      ]
    },
    {
      "cell_type": "markdown",
      "source": [
        "[22.] what is the difference between @staticmethod and @classmethod in Python?"
      ],
      "metadata": {
        "id": "qzlMcVwNXEar"
      }
    },
    {
      "cell_type": "markdown",
      "source": [
        "In @class method\n",
        "\n",
        "1. cls as an first parameter\n",
        "2. can modify class level attribute\n",
        "3. alternative constructors, modifying class state\n",
        "\n",
        "In @staticmethod:\n",
        "1. No special first parameter required\n",
        "2. It has no knowledge of the class or instance\n",
        "3. logically grouped with the class."
      ],
      "metadata": {
        "id": "ix2brdiaXVfp"
      }
    },
    {
      "cell_type": "code",
      "source": [
        "class MyClass:\n",
        "    class_attr = \"I am a class attribute\"\n",
        "\n",
        "    def __init__(self, value):\n",
        "        self.instance_attr = value\n",
        "\n",
        "    def instance_method(self):\n",
        "        return f\"Instance method. instance_attr: {self.instance_attr}, class_attr: {self.class_attr}\"\n",
        "\n",
        "    @classmethod\n",
        "    def class_method(cls):\n",
        "        return f\"Class method. I can see class_attr: {cls.class_attr}\"\n",
        "\n",
        "    @staticmethod\n",
        "    def static_method():\n",
        "        return f\"Static method. I'm just a function inside the class namespace.\"\n",
        "        # I cannot see 'self' or 'cls'!\n",
        "\n",
        "# Usage\n",
        "obj = MyClass(\"instance value\")\n",
        "\n",
        "print(obj.instance_method()) # Needs an instance\n",
        "print(MyClass.class_method()) # Called on the class\n",
        "print(MyClass.static_method()) # Called on the class"
      ],
      "metadata": {
        "id": "Rb-j8a9gXVz5",
        "colab": {
          "base_uri": "https://localhost:8080/"
        },
        "outputId": "92711da4-2004-4dc2-bfdc-43fbd331afe9"
      },
      "execution_count": null,
      "outputs": [
        {
          "output_type": "stream",
          "name": "stdout",
          "text": [
            "Instance method. instance_attr: instance value, class_attr: I am a class attribute\n",
            "Class method. I can see class_attr: I am a class attribute\n",
            "Static method. I'm just a function inside the class namespace.\n"
          ]
        }
      ]
    },
    {
      "cell_type": "markdown",
      "source": [
        "[23.]  How does polymorphism work in Python with inheritance?"
      ],
      "metadata": {
        "id": "ZFrAVp6vXWGD"
      }
    },
    {
      "cell_type": "markdown",
      "source": [
        "1. Polymorphism with inheritance works through method overriding. A parent class defines a method (establishing an interface), and child classes provide their own specific implementation of that method. When you call the method on an object, Python automatically executes the version belonging to the object's actual class, not the variable's type."
      ],
      "metadata": {
        "id": "gkgJhGNaXkyh"
      }
    },
    {
      "cell_type": "code",
      "source": [
        "# Step 1: Define a common interface in the parent class.\n",
        "class Animal:\n",
        "    def speak(self):\n",
        "        # This is the common interface.\n",
        "        # It might be empty or have a default implementation.\n",
        "        raise NotImplementedError(\"Subclass must implement this method\")\n",
        "\n",
        "# Step 2: Child classes override the method with their own implementations.\n",
        "class Dog(Animal):\n",
        "    def speak(self):  # Method overriding\n",
        "        return \"Woof!\"\n",
        "\n",
        "class Cat(Animal):\n",
        "    def speak(self):  # Method overriding\n",
        "        return \"Meow!\"\n",
        "\n",
        "class Cow(Animal):\n",
        "    def speak(self):  # Method overriding\n",
        "        return \"Moo!\"\n",
        "\n",
        "# Step 3: Create a function that uses the common interface.\n",
        "def animal_sound(animal):\n",
        "    \"\"\"This function doesn't care about the specific animal type.\n",
        "    It only knows that the object has a .speak() method.\"\"\"\n",
        "    print(animal.speak())\n",
        "\n",
        "# Create objects of different subclasses\n",
        "my_dog = Dog()\n",
        "my_cat = Cat()\n",
        "my_cow = Cow()\n",
        "\n",
        "# The magic of polymorphism: the same function call\n",
        "# produces different results based on the object's type.\n",
        "animal_sound(my_dog)  # Output: Woof!\n",
        "animal_sound(my_cat)  # Output: Meow!\n",
        "animal_sound(my_cow)  # Output: Moo!\n"
      ],
      "metadata": {
        "id": "RENOA6T3XlE-",
        "colab": {
          "base_uri": "https://localhost:8080/"
        },
        "outputId": "acf640f3-4e99-491f-bc84-921100569219"
      },
      "execution_count": null,
      "outputs": [
        {
          "output_type": "stream",
          "name": "stdout",
          "text": [
            "Woof!\n",
            "Meow!\n",
            "Moo!\n"
          ]
        }
      ]
    },
    {
      "cell_type": "markdown",
      "source": [
        "[24.]  What is method chaining in Python OOP?"
      ],
      "metadata": {
        "id": "Bfs_LXL6XlVT"
      }
    },
    {
      "cell_type": "markdown",
      "source": [
        "Method chaining is a technique in Object-Oriented Programming where multiple methods are called on the same object in a single statement, one after another.\n",
        "\n"
      ],
      "metadata": {
        "id": "PJkOFazBXvGZ"
      }
    },
    {
      "cell_type": "code",
      "source": [
        "class Config:\n",
        "  def __init__(self):\n",
        "    self.settings = {}\n",
        "\n",
        "  def set_host(self, host):\n",
        "    self.settings['host'] = host\n",
        "    return self\n",
        "\n",
        "  def set_port(self, port):\n",
        "    self.settings['port'] = port\n",
        "    return self\n",
        "\n",
        "  def set_timeout(self, timeout):\n",
        "    self.settings['timeout'] = timeout\n",
        "    return self\n",
        "\n",
        "  def enable_ssl(self, enabled = True):\n",
        "    self.settings['ssl'] = enabled\n",
        "    return self\n",
        "\n",
        "  def build(self):\n",
        "    return self.settings\n",
        "\n",
        "\n",
        "config = (Config()\n",
        "           .set_host(\"api.example.com\")\n",
        "           .set_port(443)\n",
        "           .set_timeout(5)\n",
        "           .enable_ssl()\n",
        "           .build())\n",
        "\n",
        "print(config)\n",
        "\n"
      ],
      "metadata": {
        "id": "8dU6JldJXvay",
        "colab": {
          "base_uri": "https://localhost:8080/"
        },
        "outputId": "414d1537-6334-4a70-801e-48775da96b22"
      },
      "execution_count": null,
      "outputs": [
        {
          "output_type": "stream",
          "name": "stdout",
          "text": [
            "{'host': 'api.example.com', 'port': 443, 'timeout': 5, 'ssl': True}\n"
          ]
        }
      ]
    },
    {
      "cell_type": "markdown",
      "source": [
        "[25.]  What is the purpous of the '__call__' method in Python?"
      ],
      "metadata": {
        "id": "yVsyj_rJXvwK"
      }
    },
    {
      "cell_type": "markdown",
      "source": [
        "1. When we define a __call__ method in a class, we are making the instances of that class callable.\n",
        "\n",
        "2. We can use the object followed by parentheses () and arguments, just like we would with a regular function."
      ],
      "metadata": {
        "id": "8SrxMT34X7z5"
      }
    },
    {
      "cell_type": "code",
      "source": [
        "class SortStrategy:\n",
        "  def __call__(self, data):\n",
        "     raise NotImplementedError\n",
        "\n",
        "class QuickSort(SortStrategy):\n",
        "  def __call__(self, data):\n",
        "    return sorted(data)\n",
        "\n",
        "class ReverseSort(SortStrategy):\n",
        "  def __call__(self, data):\n",
        "    return sorted(data, reverse=True)\n",
        "\n",
        "class DataProcessor:\n",
        "  def __init__(self, strategy = None):\n",
        "    self.strategy = strategy = strategy or QuickSort()\n",
        "\n",
        "  def process_data(self, data):\n",
        "    return self.strategy(data)\n",
        "\n",
        "\n",
        "data = [3, 1, 4, 1, 5, 9, 2, 6]\n",
        "\n",
        "processor = DataProcessor(QuickSort())\n",
        "result1 = processor.process_data(data)\n",
        "print(result1)\n",
        "\n",
        "processor = DataProcessor(ReverseSort())\n",
        "result2 = processor.process_data(data)\n",
        "print(result2)"
      ],
      "metadata": {
        "id": "hK5gctGyX8MT",
        "colab": {
          "base_uri": "https://localhost:8080/"
        },
        "outputId": "7f08b7f4-9e74-4077-fe3f-58b51e37523f"
      },
      "execution_count": null,
      "outputs": [
        {
          "output_type": "stream",
          "name": "stdout",
          "text": [
            "[1, 1, 2, 3, 4, 5, 6, 9]\n",
            "[9, 6, 5, 4, 3, 2, 1, 1]\n"
          ]
        }
      ]
    },
    {
      "cell_type": "markdown",
      "source": [
        "# Practical Questions >> OOPS Programming"
      ],
      "metadata": {
        "id": "VTQdHRClX8hR"
      }
    },
    {
      "cell_type": "markdown",
      "source": [
        "[1.] Create a parent class Animal with a method speak() that prints a generic message. Create a child class Dog that overrides the speak() method to print \"Bark!\"."
      ],
      "metadata": {
        "id": "KcT01UVTYJL8"
      }
    },
    {
      "cell_type": "code",
      "source": [
        "class Animal:\n",
        "  def speak(self):\n",
        "    print(\"Generic message\")\n",
        "\n",
        "class Dog(Animal):\n",
        "  def speak(self):\n",
        "    print(\"Bark!\")\n",
        "\n",
        "dog = Dog()\n",
        "dog.speak()"
      ],
      "metadata": {
        "id": "p_daQCOsYGvr",
        "colab": {
          "base_uri": "https://localhost:8080/"
        },
        "outputId": "bb041cc1-e7c8-44b5-a013-8c0fd8579548"
      },
      "execution_count": null,
      "outputs": [
        {
          "output_type": "stream",
          "name": "stdout",
          "text": [
            "Bark!\n"
          ]
        }
      ]
    },
    {
      "cell_type": "markdown",
      "source": [
        "[2.]   Write a program to create an abstract class Shape with a method area(). Derive classes Circle and Rectangle from it and implement the area() method in both."
      ],
      "metadata": {
        "id": "LZ_chJmVP05j"
      }
    },
    {
      "cell_type": "code",
      "source": [
        "from abc import ABC, abstractmethod\n",
        "\n",
        "class Shape(ABC):\n",
        "  @abstractmethod\n",
        "  def area(self):\n",
        "    pass\n",
        "\n",
        "class Circle(Shape):\n",
        "  def area(self):\n",
        "    print(\"Circle area\")\n",
        "\n",
        "class Rectangle(Shape):\n",
        "  def area(self):\n",
        "    print(\"Rectangle area\")\n",
        "\n",
        "circle = Circle()\n",
        "circle.area()\n",
        "\n",
        "rectangle = Rectangle()\n",
        "rectangle.area()\n"
      ],
      "metadata": {
        "colab": {
          "base_uri": "https://localhost:8080/"
        },
        "id": "U7FjLXphP0D2",
        "outputId": "21afe288-b8b9-47da-a247-0202de688e71"
      },
      "execution_count": null,
      "outputs": [
        {
          "output_type": "stream",
          "name": "stdout",
          "text": [
            "Circle area\n",
            "Rectangle area\n"
          ]
        }
      ]
    },
    {
      "cell_type": "markdown",
      "source": [
        "[3.]  Implement a multi-level inheritance scenario where a class Vehicle has an attribute type. Derive a class Car and further derive a class ElectricCar that adds a battery attribute."
      ],
      "metadata": {
        "id": "X5vGFeMQQ9ZL"
      }
    },
    {
      "cell_type": "code",
      "source": [
        "class Vehicle:\n",
        "  def __init__(self, type):\n",
        "    self.type = type\n",
        "\n",
        "  def display_info(self):\n",
        "    print(f\"Vehicle Type: {self.type}\")\n",
        "\n",
        "class Car(Vehicle):\n",
        "  def __init__(self, type, brand, model):\n",
        "    super().__init__(type)\n",
        "    self.brand = brand\n",
        "    self.model = model\n",
        "\n",
        "  def display_info(self):\n",
        "    super().display_info()\n",
        "    print(f\"Brand: {self.brand}\")\n",
        "    print(f\"Model: {self.model}\")\n",
        "\n",
        "class ElectricCar(Car):\n",
        "  def __init__(self, type, brand, model, battery_capacity):\n",
        "    super().__init__(type, brand, model)\n",
        "    self.battery_capacity = battery_capacity\n",
        "\n",
        "  def display_info(self):\n",
        "    super().display_info()\n",
        "    print(f\"Battery Capacity: {self.battery_capacity} KWH\")\n",
        "\n",
        "  def charge(self):\n",
        "    print(f\"Charging the {self.brand} {self.model} with {self.battery_capacity} KWH Battery\")\n",
        "\n",
        "# Example usage\n",
        "if __name__ == \"__main__\":\n",
        "    # Create a Vehicle object\n",
        "    vehicle = Vehicle(\"Generic Vehicle\")\n",
        "    print(\"=== Vehicle =====\")\n",
        "    vehicle.display_info()\n",
        "    print()\n",
        "\n",
        "    # Create a Car object\n",
        "    car = Car(\"Passenger Car\", \"Toyota\", \"Camry\")\n",
        "    print(\"=== Car =====\")\n",
        "    car.display_info()\n",
        "    print()\n",
        "\n",
        "    # Create an ElectricCar object\n",
        "    electric_car = ElectricCar(\"Electric Vehicle\", \"Tesla\", \"Model 3\", 75)\n",
        "    print(\"=== Electric Car =====\")\n",
        "    electric_car.display_info()\n",
        "    electric_car.charge()"
      ],
      "metadata": {
        "colab": {
          "base_uri": "https://localhost:8080/"
        },
        "id": "-kpKfhnBRBl7",
        "outputId": "f670c466-463c-4bc2-951e-52fac0afd112"
      },
      "execution_count": null,
      "outputs": [
        {
          "output_type": "stream",
          "name": "stdout",
          "text": [
            "=== Vehicle =====\n",
            "Vehicle Type: Generic Vehicle\n",
            "\n",
            "=== Car =====\n",
            "Vehicle Type: Passenger Car\n",
            "Brand: Toyota\n",
            "Model: Camry\n",
            "\n",
            "=== Electric Car =====\n",
            "Vehicle Type: Electric Vehicle\n",
            "Brand: Tesla\n",
            "Model: Model 3\n",
            "Battery Capacity: 75 KWH\n",
            "Charging the Tesla Model 3 with 75 KWH Battery\n"
          ]
        }
      ]
    },
    {
      "cell_type": "markdown",
      "source": [
        "[4.]  Demonstrate polymorphism by creating a base class Bird with a method fly(). Create two derived classes Sparrow and Penguin that override the fly() method."
      ],
      "metadata": {
        "id": "9VL_QPUaVBM-"
      }
    },
    {
      "cell_type": "code",
      "source": [
        "class Bird:\n",
        "  def fly(self):\n",
        "    print(\"Bird is flying.\")\n",
        "\n",
        "class Sparrow(Bird):\n",
        "  def fly(self):\n",
        "    print(\"Sparrow is flying.\")\n",
        "\n",
        "class Penguin(Bird):\n",
        "  def fly(self):\n",
        "    print(\"Bird is flying.\")\n",
        "\n",
        "bird = Bird()\n",
        "bird.fly()\n",
        "\n",
        "sparrow = Sparrow()\n",
        "sparrow.fly()\n",
        "\n",
        "penguin = Penguin()\n",
        "penguin.fly()"
      ],
      "metadata": {
        "colab": {
          "base_uri": "https://localhost:8080/"
        },
        "id": "nS2ZnhV0VH09",
        "outputId": "cc022122-fbd0-42f4-817f-99464427fc84"
      },
      "execution_count": null,
      "outputs": [
        {
          "output_type": "stream",
          "name": "stdout",
          "text": [
            "Bird is flying.\n",
            "Sparrow is flying.\n",
            "Bird is flying.\n"
          ]
        }
      ]
    },
    {
      "cell_type": "markdown",
      "source": [
        "[5.]  Write a program to demonstrate encapsulation by creating a class BankAccount with private attributes balance and methods to deposit, withdraw, and check balance"
      ],
      "metadata": {
        "id": "61XJzmTJV6Ll"
      }
    },
    {
      "cell_type": "code",
      "source": [
        "class BankAccount:\n",
        "    def __init__(self):\n",
        "        self.__balance = 0  # Private attribute\n",
        "\n",
        "    def deposit(self, amount):\n",
        "        if amount > 0:\n",
        "            self.__balance += amount\n",
        "            print(f\"Deposited ${amount}\")\n",
        "\n",
        "    def withdraw(self, amount):\n",
        "        if 0 < amount <= self.__balance:\n",
        "            self.__balance -= amount\n",
        "            print(f\"Withdrew ${amount}\")\n",
        "        else:\n",
        "            print(\"Invalid withdrawal\")\n",
        "\n",
        "    def check_balance(self):\n",
        "        print(f\"Balance: ${self.__balance}\")\n",
        "\n",
        "# Create account and test\n",
        "account = BankAccount()\n",
        "account.deposit(100)\n",
        "account.withdraw(30)\n",
        "account.check_balance()\n",
        "\n",
        "# Try to access private attribute (will fail)\n",
        "# print(account.__balance)  # Error!"
      ],
      "metadata": {
        "colab": {
          "base_uri": "https://localhost:8080/"
        },
        "id": "pKfDEzAYZoVx",
        "outputId": "b669b4ab-72f4-4060-efec-912c3f1a77f9"
      },
      "execution_count": null,
      "outputs": [
        {
          "output_type": "stream",
          "name": "stdout",
          "text": [
            "Deposited $100\n",
            "Withdrew $30\n",
            "Balance: $70\n"
          ]
        }
      ]
    },
    {
      "cell_type": "markdown",
      "source": [
        "[6.]  Demonstrate runtime polymorphism using a method play() in a base class Instrument. Derive classes Guitar and Piano that implement their own version of play()"
      ],
      "metadata": {
        "id": "zi6UAeOKZuc_"
      }
    },
    {
      "cell_type": "code",
      "source": [
        "class Instrument:\n",
        "    def play(self):\n",
        "        print(\"Some instrument is playing\")\n",
        "\n",
        "class Guitar(Instrument):\n",
        "    def play(self):\n",
        "        print(\"Guitar is strumming chords\")\n",
        "\n",
        "class Piano(Instrument):\n",
        "    def play(self):\n",
        "        print(\"Piano is playing melodies\")\n",
        "\n",
        "# Runtime polymorphism demonstration\n",
        "instruments = [Instrument(), Guitar(), Piano()]\n",
        "\n",
        "for instrument in instruments:\n",
        "    instrument.play()  # Calls the appropriate play() method at runtime"
      ],
      "metadata": {
        "colab": {
          "base_uri": "https://localhost:8080/"
        },
        "id": "wirgrjrKZzgB",
        "outputId": "0a9c47ef-7d3f-4605-814a-153a888bef65"
      },
      "execution_count": null,
      "outputs": [
        {
          "output_type": "stream",
          "name": "stdout",
          "text": [
            "Some instrument is playing\n",
            "Guitar is strumming chords\n",
            "Piano is playing melodies\n"
          ]
        }
      ]
    },
    {
      "cell_type": "markdown",
      "source": [
        "[7.]  Create a class MathOperations with a class method add_numbers() to add two numbers and a static method subtract_numbers() to subtract two numbers."
      ],
      "metadata": {
        "id": "dU4HaxEwaM4g"
      }
    },
    {
      "cell_type": "code",
      "source": [],
      "metadata": {
        "id": "TvJeyEvHaiKK"
      },
      "execution_count": null,
      "outputs": []
    },
    {
      "cell_type": "code",
      "metadata": {
        "colab": {
          "base_uri": "https://localhost:8080/"
        },
        "id": "436b9ec3",
        "outputId": "009cc1ae-eeaf-452f-b6aa-43364504af81"
      },
      "source": [
        "class MathOperations:\n",
        "    @classmethod\n",
        "    def add_numbers(cls, x, y):\n",
        "        \"\"\"Adds two numbers using a class method.\"\"\"\n",
        "        print(\"Using class method for addition:\")\n",
        "        return x + y\n",
        "\n",
        "    @staticmethod\n",
        "    def subtract_numbers(x, y):\n",
        "        \"\"\"Subtracts two numbers using a static method.\"\"\"\n",
        "        print(\"Using static method for subtraction:\")\n",
        "        return x - y\n",
        "\n",
        "# Example usage\n",
        "print(MathOperations.add_numbers(10, 5))\n",
        "print(MathOperations.subtract_numbers(10, 5))"
      ],
      "execution_count": null,
      "outputs": [
        {
          "output_type": "stream",
          "name": "stdout",
          "text": [
            "Using class method for addition:\n",
            "15\n",
            "Using static method for subtraction:\n",
            "5\n"
          ]
        }
      ]
    },
    {
      "cell_type": "markdown",
      "source": [
        "[8.]  Implement a class Person with a class method to count the total number of persons created."
      ],
      "metadata": {
        "id": "VK1IFQZna8ZR"
      }
    },
    {
      "cell_type": "code",
      "source": [
        "class Person:\n",
        "    # Class variable to keep track of the number of instances\n",
        "    person_count = 0\n",
        "\n",
        "    def __init__(self, name):\n",
        "        self.name = name\n",
        "        # Increment the class variable when a new instance is created\n",
        "        Person.person_count += 1\n",
        "\n",
        "    @classmethod\n",
        "    def get_person_count(cls):\n",
        "        \"\"\"Class method to return the total number of Person instances.\"\"\"\n",
        "        return cls.person_count\n",
        "\n",
        "# Example usage\n",
        "person1 = Person(\"Alice\")\n",
        "person2 = Person(\"Bob\")\n",
        "person3 = Person(\"Charlie\")\n",
        "\n",
        "print(f\"Total number of persons created: {Person.get_person_count()}\")"
      ],
      "metadata": {
        "colab": {
          "base_uri": "https://localhost:8080/"
        },
        "id": "mUQcRceUa7VG",
        "outputId": "58dff26a-0f78-4650-e462-790dd6b6759c"
      },
      "execution_count": null,
      "outputs": [
        {
          "output_type": "stream",
          "name": "stdout",
          "text": [
            "Total number of persons created: 3\n"
          ]
        }
      ]
    },
    {
      "cell_type": "markdown",
      "source": [
        "[9.] Write a class Fraction with attributes numerator and denominator. Override the str method to display the fraction as \"numerator/denominator\"."
      ],
      "metadata": {
        "id": "EAZ_zDmwbYLH"
      }
    },
    {
      "cell_type": "code",
      "metadata": {
        "id": "a35de4ea",
        "colab": {
          "base_uri": "https://localhost:8080/",
          "height": 0
        },
        "outputId": "f384cca5-8694-444d-a427-012ba6481716"
      },
      "source": [
        "class Fraction:\n",
        "    def __init__(self, numerator, denominator):\n",
        "        if denominator == 0:\n",
        "            raise ValueError(\"Denominator cannot be zero.\")\n",
        "        self.numerator = numerator\n",
        "        self.denominator = denominator\n",
        "\n",
        "    def __str__(self):\n",
        "        \"\"\"Overrides the string representation for end-users.\"\"\"\n",
        "        return f\"{self.numerator}/{self.denominator}\"\n",
        "\n",
        "# Example usage\n",
        "fraction1 = Fraction(1, 2)\n",
        "fraction2 = Fraction(3, 4)\n",
        "\n",
        "print(fraction1)\n",
        "print(fraction2)"
      ],
      "execution_count": 63,
      "outputs": [
        {
          "output_type": "stream",
          "name": "stdout",
          "text": [
            "1/2\n",
            "3/4\n"
          ]
        }
      ]
    },
    {
      "cell_type": "markdown",
      "source": [
        "[10.]   Demonstrate operator overloading by creating a class Vector and overriding the add method to add two vectors."
      ],
      "metadata": {
        "id": "q-q_EFGHclJt"
      }
    },
    {
      "cell_type": "code",
      "source": [
        "class Vector:\n",
        "    def __init__(self, x, y):\n",
        "        self.x = x\n",
        "        self.y = y\n",
        "\n",
        "    def __str__(self):\n",
        "        return f\"Vector({self.x}, {self.y})\"\n",
        "\n",
        "    def __add__(self, other):\n",
        "        \"\"\"Overload the + operator to add two vectors.\"\"\"\n",
        "        if isinstance(other, Vector):\n",
        "            return Vector(self.x + other.x, self.y + other.y)\n",
        "        else:\n",
        "            raise TypeError(\"Can only add a Vector to another Vector.\")\n",
        "\n",
        "# Example usage\n",
        "vector1 = Vector(2, 3)\n",
        "vector2 = Vector(4, 5)\n",
        "\n",
        "# Using the overloaded + operator\n",
        "vector_sum = vector1 + vector2\n",
        "print(vector_sum)  # Output: Vector(6, 8)\n",
        "\n",
        "# This would raise a TypeError\n",
        "# vector1 + 5"
      ],
      "metadata": {
        "colab": {
          "base_uri": "https://localhost:8080/",
          "height": 0
        },
        "id": "Rve-0Dq6c0_l",
        "outputId": "3f57ddfc-39ee-4982-f948-b4925d75a218"
      },
      "execution_count": 65,
      "outputs": [
        {
          "output_type": "stream",
          "name": "stdout",
          "text": [
            "Vector(6, 8)\n"
          ]
        }
      ]
    },
    {
      "cell_type": "markdown",
      "source": [
        "[11.]  Create a class Person with attributes name and age. Add a method greet() that prints \"Hello, my name is {name} and I am {age} years old.\""
      ],
      "metadata": {
        "id": "HzlEHqMJdbc0"
      }
    },
    {
      "cell_type": "code",
      "source": [
        "class Person:\n",
        "    def __init__(self, name, age):\n",
        "        self.name = name\n",
        "        self.age = age\n",
        "\n",
        "    def greet(self):\n",
        "        print(f\"Hello, my name is {self.name} and I am {self.age} years old.\")\n",
        "\n",
        "# Example usage\n",
        "person = Person(\"Alice\", 30)\n",
        "person.greet()"
      ],
      "metadata": {
        "colab": {
          "base_uri": "https://localhost:8080/",
          "height": 0
        },
        "id": "ajJhwwfndi1-",
        "outputId": "61dc5fe6-3ffe-4c41-9bb1-6989e70b9f63"
      },
      "execution_count": 67,
      "outputs": [
        {
          "output_type": "stream",
          "name": "stdout",
          "text": [
            "Hello, my name is Alice and I am 30 years old.\n"
          ]
        }
      ]
    },
    {
      "cell_type": "markdown",
      "source": [
        "[12.]  mplement a class Student with attributes name and grades. Create a method average_grade() to compute the average of the grades."
      ],
      "metadata": {
        "id": "ZLIdArhSdh6Z"
      }
    },
    {
      "cell_type": "code",
      "source": [
        "class Student:\n",
        "    def __init__(self, name, grades):\n",
        "        self.name = name\n",
        "        self.grades = grades  # grades should be a list of numbers\n",
        "\n",
        "    def average_grade(self):\n",
        "        if not self.grades:\n",
        "            return 0  # Return 0 if there are no grades\n",
        "        return sum(self.grades) / len(self.grades)\n",
        "\n",
        "# Example usage\n",
        "student1 = Student(\"Bob\", [85, 90, 78, 92])\n",
        "print(f\"{student1.name}'s average grade is: {student1.average_grade()}\")\n",
        "\n",
        "student2 = Student(\"Alice\", [])\n",
        "print(f\"{student2.name}'s average grade is: {student2.average_grade()}\")"
      ],
      "metadata": {
        "colab": {
          "base_uri": "https://localhost:8080/",
          "height": 0
        },
        "id": "_gdIVJHPdri8",
        "outputId": "a98b3f58-f03c-4391-a830-623811d2f728"
      },
      "execution_count": 68,
      "outputs": [
        {
          "output_type": "stream",
          "name": "stdout",
          "text": [
            "Bob's average grade is: 86.25\n",
            "Alice's average grade is: 0\n"
          ]
        }
      ]
    },
    {
      "cell_type": "markdown",
      "source": [
        "[13.]  Create a class Rectangle with methods set_dimensions() to set the dimensions and area() to calculate the area."
      ],
      "metadata": {
        "id": "w4HSdtk2enFk"
      }
    },
    {
      "cell_type": "code",
      "source": [
        "class Rectangle:\n",
        "    def __init__(self):\n",
        "        self.width = 0\n",
        "        self.height = 0\n",
        "\n",
        "    def set_dimensions(self, width, height):\n",
        "        if width >= 0 and height >= 0:\n",
        "            self.width = width\n",
        "            self.height = height\n",
        "        else:\n",
        "            print(\"Dimensions must be non-negative.\")\n",
        "\n",
        "    def area(self):\n",
        "        return self.width * self.height\n",
        "\n",
        "# Example usage\n",
        "rectangle = Rectangle()\n",
        "rectangle.set_dimensions(5, 10)\n",
        "print(f\"The area of the rectangle is: {rectangle.area()}\")\n",
        "\n",
        "rectangle.set_dimensions(-2, 5) # Example of invalid input\n",
        "print(f\"The area of the rectangle is: {rectangle.area()}\") # Area remains based on previous valid dimensions"
      ],
      "metadata": {
        "colab": {
          "base_uri": "https://localhost:8080/",
          "height": 0
        },
        "id": "DP7Z_RhJe3gs",
        "outputId": "b0d130b2-7652-4f99-ceff-c11312e9ca72"
      },
      "execution_count": 69,
      "outputs": [
        {
          "output_type": "stream",
          "name": "stdout",
          "text": [
            "The area of the rectangle is: 50\n",
            "Dimensions must be non-negative.\n",
            "The area of the rectangle is: 50\n"
          ]
        }
      ]
    },
    {
      "cell_type": "markdown",
      "source": [
        "[14.]  Create a class Employee with a method calculate_salary() that computes the salary based on hours worked and hourly rate. Create a derived class Manager that adds a bonus to the salary."
      ],
      "metadata": {
        "id": "FUgEVFE7esjH"
      }
    },
    {
      "cell_type": "code",
      "source": [
        "class Employee:\n",
        "    def __init__(self, name, hours_worked, hourly_rate):\n",
        "        self.name = name\n",
        "        self.hours_worked = hours_worked\n",
        "        self.hourly_rate = hourly_rate\n",
        "\n",
        "    def calculate_salary(self):\n",
        "        return self.hours_worked * self.hourly_rate\n",
        "\n",
        "class Manager(Employee):\n",
        "    def __init__(self, name, hours_worked, hourly_rate, bonus):\n",
        "        super().__init__(name, hours_worked, hourly_rate)\n",
        "        self.bonus = bonus\n",
        "\n",
        "    def calculate_salary(self):\n",
        "        # Call the parent class method and add the bonus\n",
        "        base_salary = super().calculate_salary()\n",
        "        return base_salary + self.bonus\n",
        "\n",
        "# Example usage\n",
        "employee = Employee(\"Alice\", 40, 15)\n",
        "print(f\"{employee.name}'s salary: ${employee.calculate_salary()}\")\n",
        "\n",
        "manager = Manager(\"Bob\", 40, 20, 500)\n",
        "print(f\"{manager.name}'s salary: ${manager.calculate_salary()}\")"
      ],
      "metadata": {
        "colab": {
          "base_uri": "https://localhost:8080/",
          "height": 0
        },
        "id": "crL6FU0EfItY",
        "outputId": "331bb09f-db42-4381-87f9-17955c9ab5c6"
      },
      "execution_count": 72,
      "outputs": [
        {
          "output_type": "stream",
          "name": "stdout",
          "text": [
            "Alice's salary: $600\n",
            "Bob's salary: $1300\n"
          ]
        }
      ]
    },
    {
      "cell_type": "markdown",
      "source": [
        "[15.]  Create a class Product with attributes name, price, and quantity. Implement a method total_price() that calculates the total price of the product."
      ],
      "metadata": {
        "id": "cFFwcI1Dtz9r"
      }
    },
    {
      "cell_type": "code",
      "source": [
        "class Product:\n",
        "    def __init__(self, name, price, quantity):\n",
        "        self.name = name\n",
        "        self.price = price\n",
        "        self.quantity = quantity\n",
        "\n",
        "    def total_price(self):\n",
        "        return self.price * self.quantity\n",
        "\n",
        "# Example usage\n",
        "product1 = Product(\"Laptop\", 1200, 1)\n",
        "product2 = Product(\"Mouse\", 25, 5)\n",
        "\n",
        "print(f\"{product1.name} total price: ${product1.total_price()}\")\n",
        "print(f\"{product2.name} total price: ${product2.total_price()}\")"
      ],
      "metadata": {
        "colab": {
          "base_uri": "https://localhost:8080/",
          "height": 0
        },
        "id": "6dfNKaMGgB7C",
        "outputId": "47f7f9d9-40f0-4e13-bd7d-63a48723d217"
      },
      "execution_count": 73,
      "outputs": [
        {
          "output_type": "stream",
          "name": "stdout",
          "text": [
            "Laptop total price: $1200\n",
            "Mouse total price: $125\n"
          ]
        }
      ]
    },
    {
      "cell_type": "markdown",
      "source": [
        "[16.]  Create a class Animal with an abstract method sound(). Create two derived classes Cow and Sheep that implement the sound() method."
      ],
      "metadata": {
        "id": "gLXoqpnTuRrM"
      }
    },
    {
      "cell_type": "code",
      "source": [
        "from abc import ABC, abstractmethod\n",
        "\n",
        "class Animal(ABC):\n",
        "    @abstractmethod\n",
        "    def sound(self):\n",
        "        pass\n",
        "\n",
        "class Cow(Animal):\n",
        "    def sound(self):\n",
        "        return \"Moo!\"\n",
        "\n",
        "class Sheep(Animal):\n",
        "    def sound(self):\n",
        "        return \"Baa!\"\n",
        "\n",
        "# Example usage\n",
        "cow = Cow()\n",
        "sheep = Sheep()\n",
        "\n",
        "print(cow.sound())\n",
        "print(sheep.sound())"
      ],
      "metadata": {
        "colab": {
          "base_uri": "https://localhost:8080/",
          "height": 0
        },
        "id": "rtqKEqThuVuJ",
        "outputId": "68ae8e71-5342-442a-999a-4fe9d2603128"
      },
      "execution_count": 74,
      "outputs": [
        {
          "output_type": "stream",
          "name": "stdout",
          "text": [
            "Moo!\n",
            "Baa!\n"
          ]
        }
      ]
    },
    {
      "cell_type": "markdown",
      "source": [
        "[17.]  Create a class Book with attributes title, author, and year_published. Add a method get_book_info() that returns a formatted string with the book's details."
      ],
      "metadata": {
        "id": "lGfhCEF4ug65"
      }
    },
    {
      "cell_type": "code",
      "source": [
        "class Book:\n",
        "    def __init__(self, title, author, year_published):\n",
        "        self.title = title\n",
        "        self.author = author\n",
        "        self.year_published = year_published\n",
        "\n",
        "    def get_book_info(self):\n",
        "        return f\"'{self.title}' by {self.author}, published in {self.year_published}\"\n",
        "\n",
        "# Example usage\n",
        "book1 = Book(\"The Hitchhiker's Guide to the Galaxy\", \"Douglas Adams\", 1979)\n",
        "print(book1.get_book_info())\n",
        "\n",
        "book2 = Book(\"Pride and Prejudice\", \"Jane Austen\", 1813)\n",
        "print(book2.get_book_info())"
      ],
      "metadata": {
        "colab": {
          "base_uri": "https://localhost:8080/",
          "height": 0
        },
        "id": "yAFMgORYulZ5",
        "outputId": "feaef748-b6c8-49bc-c70b-06c856022aba"
      },
      "execution_count": 75,
      "outputs": [
        {
          "output_type": "stream",
          "name": "stdout",
          "text": [
            "'The Hitchhiker's Guide to the Galaxy' by Douglas Adams, published in 1979\n",
            "'Pride and Prejudice' by Jane Austen, published in 1813\n"
          ]
        }
      ]
    },
    {
      "cell_type": "markdown",
      "source": [
        "[18.]  Create a class House with attributes address and price. Create a derived class Mansion that adds an attribute number_of_rooms."
      ],
      "metadata": {
        "id": "Sltpq2rGuy4C"
      }
    },
    {
      "cell_type": "code",
      "source": [
        "class House:\n",
        "    def __init__(self, address, price):\n",
        "        self.address = address\n",
        "        self.price = price\n",
        "\n",
        "    def display_info(self):\n",
        "        print(f\"Address: {self.address}, Price: ${self.price}\")\n",
        "\n",
        "class Mansion(House):\n",
        "    def __init__(self, address, price, number_of_rooms):\n",
        "        super().__init__(address, price)\n",
        "        self.number_of_rooms = number_of_rooms\n",
        "\n",
        "    def display_info(self):\n",
        "        super().display_info()\n",
        "        print(f\"Number of Rooms: {self.number_of_rooms}\")\n",
        "\n",
        "# Example usage\n",
        "house = House(\"123 Main St\", 300000)\n",
        "print(\"--- House Info ---\")\n",
        "house.display_info()\n",
        "\n",
        "mansion = Mansion(\"456 Elm St\", 1500000, 10)\n",
        "print(\"\\n--- Mansion Info ---\")\n",
        "mansion.display_info()"
      ],
      "metadata": {
        "colab": {
          "base_uri": "https://localhost:8080/",
          "height": 0
        },
        "id": "BfkX-wW8u3GS",
        "outputId": "1bd8a848-9c20-4a09-d0a8-7492cf8d512f"
      },
      "execution_count": 78,
      "outputs": [
        {
          "output_type": "stream",
          "name": "stdout",
          "text": [
            "--- House Info ---\n",
            "Address: 123 Main St, Price: $300000\n",
            "\n",
            "--- Mansion Info ---\n",
            "Address: 456 Elm St, Price: $1500000\n",
            "Number of Rooms: 10\n"
          ]
        }
      ]
    }
  ]
}