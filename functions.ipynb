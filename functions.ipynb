{
  "nbformat": 4,
  "nbformat_minor": 0,
  "metadata": {
    "colab": {
      "provenance": []
    },
    "kernelspec": {
      "name": "python3",
      "display_name": "Python 3"
    },
    "language_info": {
      "name": "python"
    }
  },
  "cells": [
    {
      "cell_type": "markdown",
      "source": [
        "\n",
        "#  Functions"
      ],
      "metadata": {
        "id": "DXgc2LjkUzdz"
      }
    },
    {
      "cell_type": "markdown",
      "source": [
        "1. What is the difference between a function and a method in python ?\n",
        "\n",
        "- A function is independent and can be called anywhere, while a method is tied to a class or object and must be called on that object or within that class.\n",
        "\n",
        "2. second"
      ],
      "metadata": {
        "id": "CsSYf_c5VF4v"
      }
    },
    {
      "cell_type": "code",
      "execution_count": null,
      "metadata": {
        "id": "PFrF6AlzUZ3u"
      },
      "outputs": [],
      "source": [
        "# this is my program\n",
        "'''\n",
        "hey my name is Shwet Prakash\n",
        "'''"
      ]
    }
  ]
}